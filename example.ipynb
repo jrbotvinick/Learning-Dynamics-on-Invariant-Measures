{
  "nbformat": 4,
  "nbformat_minor": 0,
  "metadata": {
    "colab": {
      "provenance": []
    },
    "kernelspec": {
      "name": "python3",
      "display_name": "Python 3"
    },
    "language_info": {
      "name": "python"
    }
  },
  "cells": [
    {
      "cell_type": "markdown",
      "source": [
        "In this notebook, we approximate a continuous-time dynamical system which has the same physical measure as the Van der Pol oscillator with $c = 0.5$. The velocity $v = v(\\theta)$ is paramaterized by global polynomials with coefficients $\\theta$, and the $L^2$ cost between the ground truth invariant measure $\\rho^*$ and the regularized PDE forward model $\\rho_{\\varepsilon}(v(\\theta))$ is minimized. \n",
        "\n"
      ],
      "metadata": {
        "id": "7NM8h_CC_0NW"
      }
    },
    {
      "cell_type": "markdown",
      "source": [
        "First, let's import some packages."
      ],
      "metadata": {
        "id": "N3NmegZBA4Qn"
      }
    },
    {
      "cell_type": "code",
      "source": [
        "import numpy as np\n",
        "import matplotlib.pyplot as plt\n",
        "from scipy.sparse import lil_matrix, csr_matrix, identity,spdiags, linalg\n",
        "from scipy.sparse.linalg import LinearOperator,eigs,spsolve,norm\n",
        "from scipy.optimize import minimize\n",
        "from google.colab import output\n",
        "from time import time\n",
        "from numpy.random import default_rng\n",
        "import math"
      ],
      "metadata": {
        "id": "4vyE_xl1AvDG"
      },
      "execution_count": null,
      "outputs": []
    },
    {
      "cell_type": "markdown",
      "source": [
        "Let's begin by establishing the experiment parameters"
      ],
      "metadata": {
        "id": "eN_Fq8XzBMZc"
      }
    },
    {
      "cell_type": "code",
      "source": [
        "G = {\n",
        "\"dt\": .01, #timestep\n",
        "\"dx\": .2, #spatial discretization\n",
        "'bounds': [[-4,4],[-4,4]], #bounds used in discretization\n",
        "\"alpha\": 1e-8, #teleportation parameter\n",
        "\"diff\": 5e-2, #diffusion parameter\n",
        "'TSMax': 1e5, #number of steps for inference time trajectory\n",
        "'basis_deg': 3 #what degree polynomial basis to learn from\n",
        "}\n",
        "\n",
        "hist_bounds = G['bounds']\n",
        "hist_bounds[0][0]-= G['dx']/2\n",
        "hist_bounds[0][1]+= G['dx']/2\n",
        "hist_bounds[1][0]-= G['dx']/2\n",
        "hist_bounds[1][1]+= G['dx']/2\n",
        "\n",
        "bounds = G['bounds']\n",
        "#cell centers\n",
        "Xi=np.array([i for i in np.arange(bounds[0][0], bounds[0][1]+G[\"dx\"],G[\"dx\"])])\n",
        "Yi=np.array([i for i in np.arange(bounds[1][0], bounds[1][1]+G[\"dx\"],G[\"dx\"])])\n",
        "#cell faces\n",
        "Xf=[i-G[\"dx\"]/2 for i in np.arange(bounds[0][0], bounds[0][1]+ G[\"dx\"] + G[\"dx\"] ,G[\"dx\"])] \n",
        "Yf=[i-G[\"dx\"]/2 for i in np.arange(bounds[1][0], bounds[1][1]+ G[\"dx\"] + G[\"dx\"] ,G[\"dx\"])]\n",
        "#number of cells\n",
        "G['nx'] = len(Xi) \n",
        "G['ny']  = len(Yi)\n",
        "#cell centers + ghost cells\n",
        "Xi_int=[i for i in np.arange(bounds[0][0], bounds[0][1]+2*G[\"dx\"],G[\"dx\"])]\n",
        "Yi_int=[i for i in np.arange(bounds[1][0], bounds[1][1]+2*G[\"dx\"],G[\"dx\"])]\n"
      ],
      "metadata": {
        "id": "ASQZBPjGBJ9A"
      },
      "execution_count": null,
      "outputs": []
    },
    {
      "cell_type": "markdown",
      "source": [
        "Now we generate the inference data, i.e., form a histogram approximation of the Van der Pol oscillator's invariant measure using a long Euler-Maruyama trajectory."
      ],
      "metadata": {
        "id": "PPoaKaY8CPS6"
      }
    },
    {
      "cell_type": "code",
      "source": [
        "def hist(ys,G,bounds):\n",
        "     P, edges = np.histogramdd(ys , range = bounds, bins = [G['nx'],G['ny']],normed=True)\n",
        "     P = P/sum(P.flatten())\n",
        "     return P\n",
        " \n",
        "def RHS_stand(x):\n",
        "    vx = x[1]\n",
        "    vy = .5*(1-x[0]**2)*x[1]-x[0]\n",
        "    f = np.array((vx,vy)).reshape(1,2)\n",
        "    return f\n",
        "TimeStepMax = G['TSMax']\n",
        "ys, ysn= np.zeros((int(TimeStepMax),2)),np.zeros((int(TimeStepMax),2))\n",
        "ys[0,:] = [.1,.1]\n",
        "tic = time()\n",
        "noiseV = np.random.normal(0,1,int(2*TimeStepMax)).reshape((int(TimeStepMax),2))  \n",
        "for timestep in range(1,int(TimeStepMax)): \n",
        "    if timestep% int(TimeStepMax/10)==0:\n",
        "      toc = time()\n",
        "      print(f'time step: {timestep:4d} Elapsed time: {toc-tic:.2f}s')\n",
        "    ys[timestep,:] = ys[timestep-1,:] + G[\"dt\"]* RHS_stand(ys[timestep-1,:]) +np.sqrt(2*G['diff']*G['dt'])*noiseV[timestep-1,:]\n",
        "\n",
        "Peq_true = hist(ys,G,hist_bounds)\n",
        "plt.figure(dpi = 80)\n",
        "plt.title(r'$\\rho^*$',fontsize = 20)\n",
        "extent = (bounds[0][0], bounds[0][1], bounds[1][0], bounds[1][1])\n",
        "plt.imshow(Peq_true.T,origin = 'lower',extent = extent)\n",
        "Peq_true = Peq_true.flatten(order = 'F')"
      ],
      "metadata": {
        "colab": {
          "base_uri": "https://localhost:8080/",
          "height": 477
        },
        "id": "y1K5jRcFCN27",
        "outputId": "d439cee4-55af-4ccc-ad7e-35226722ade6"
      },
      "execution_count": null,
      "outputs": [
        {
          "output_type": "stream",
          "name": "stdout",
          "text": [
            "time step: 10000 Elapsed time: 0.45s\n",
            "time step: 20000 Elapsed time: 1.17s\n",
            "time step: 30000 Elapsed time: 1.76s\n",
            "time step: 40000 Elapsed time: 2.64s\n",
            "time step: 50000 Elapsed time: 3.18s\n",
            "time step: 60000 Elapsed time: 3.64s\n",
            "time step: 70000 Elapsed time: 4.41s\n",
            "time step: 80000 Elapsed time: 4.97s\n",
            "time step: 90000 Elapsed time: 5.49s\n"
          ]
        },
        {
          "output_type": "display_data",
          "data": {
            "text/plain": [
              "<Figure size 480x320 with 1 Axes>"
            ],
            "image/png": "[encoded data removed]"
          },
          "metadata": {
            "needs_background": "light"
          }
        }
      ]
    },
    {
      "cell_type": "markdown",
      "source": [
        "Now, we define the forward model and check that for the true velocity $v^*$ the approximation $\\rho_{\\varepsilon}(v^*)$ is reasonable."
      ],
      "metadata": {
        "id": "l5jQm9t3FnTk"
      }
    },
    {
      "cell_type": "code",
      "source": [
        "nx,ny = G['nx'],G['ny']\n",
        "\n",
        "####Create True Velocities\n",
        "def RHS_vec(y,G):\n",
        "  n,_ = np.shape(y)\n",
        "  f1 = y[:,1]\n",
        "  f2 =0.5*(1-y[:,0]**2)*y[:,1]-y[:,0]\n",
        "  f = np.concatenate((f1.reshape(n,1),f2.reshape(n,1)),axis=1)\n",
        "  return f\n",
        "\n",
        "def build_velocities(G):\n",
        "  Vx = np.zeros((nx+1, ny+1))\n",
        "  Vy = np.zeros((nx+1, ny+1))   \n",
        "  y_big = np.zeros((nx-1,ny-1,2)) \n",
        "  y_big[:,:,0],y_big[:,:,1] = np.meshgrid(Xf[1:-1],Yf[1:-1],indexing='ij')\n",
        "  #y_big is n by 3 where n= (nx-1)*(ny-1)*(nz-1) is # of points we evaluate the RHS\n",
        "  y_big = y_big.reshape(((nx-1)*(ny-1),2)) \n",
        "  # evaluate the velocity at faces of the velocity cells\n",
        "  Vx[1:-1,1:-1] = np.reshape(RHS_vec(y_big + np.ones(((nx-1)*(ny-1),1))@np.array([0,G['dx']/2]).reshape(1,2), G)[:,0], ((nx-1),(ny-1)))\n",
        "  Vy[1:-1,1:-1] = np.reshape(RHS_vec(y_big + np.ones(((nx-1)*(ny-1),1))@np.array([G['dx']/2,0]).reshape(1,2), G)[:,1], ((nx-1),(ny-1)))\n",
        "  return Vx, Vy\n",
        "\n",
        "G['Vx'], G['Vy'] = build_velocities(G) #ground truth discretization of velocity\n",
        "\n",
        "###########Solve Forward Problem\n",
        "def diffmin(x):\n",
        "    return 1.*(x<0)\n",
        "def diffmax(x):\n",
        "    return 1.*(x>0)\n",
        "\n",
        "def RHS_Matrix2 (G,bounds):     #Build sparse time advance operator K_mat\n",
        "    Uf = G['Vx']\n",
        "    Vf = G['Vy']\n",
        "    up = np.maximum(Uf,0)\n",
        "    un = np.minimum(Uf,0)\n",
        "    vp = np.maximum(Vf,0)\n",
        "    vn = np.minimum(Vf,0)\n",
        "    N=nx*ny\n",
        "    XXf,YYf= np.meshgrid(Xf,Yf,indexing='ij')\n",
        "    ufm = Uf[:-1,:-1]\n",
        "    ufm = ufm.flatten(order='F')\n",
        "    ufp = Uf[1:,:-1]\n",
        "    ufp = ufp.flatten(order='F')\n",
        "    vfm = Vf[:-1,:-1]\n",
        "    vfm = vfm.flatten(order='F')\n",
        "    vfp = Vf[:-1,1:]\n",
        "    vfp = vfp.flatten(order='F')\n",
        "    #set diffusion terms while enforcing the zero-flux boundary condition\n",
        "    DxR,DxL,DxC = np.ones((nx,ny)),np.ones((nx,ny)),-2*np.ones((nx,ny))\n",
        "    DyR,DyL,DyC = np.ones((nx,ny)),np.ones((nx,ny)),-2*np.ones((nx,ny))\n",
        "    DxR[-1,:],DxL[0,:],DyR[:,-1], DyL[:,0] = 0,0,0,0\n",
        "    DxC[0,:],DxC[-1,:], DyC[:,0],DyC[:,-1] = -1,-1,-1,-1\n",
        "    DxR,DxL,DxC,DyR,DyL,DyC = G['diff']*DxR.flatten(order = 'F'),G['diff']*DxL.flatten(order = 'F'),G['diff']*DxC.flatten(order = 'F'),G['diff']*DyR.flatten(order = 'F'),G['diff']*DyL.flatten(order = 'F'),G['diff']*DyC.flatten(order = 'F')\n",
        "    T1 = spdiags(np.array([np.maximum(0,ufp)+DxR/G['dx'], np.minimum(0,ufm)- np.maximum(0,ufp)+DxC/G['dx'], -np.minimum(0,ufm)+DxL/G['dx']]), np.array([-1,0,1]), N, N) \n",
        "    T2 = spdiags(np.array([np.maximum(0,vfp)+DyR/G['dx'], np.minimum(0,vfm)- np.maximum(0,vfp)+DyC/G['dx'], -np.minimum(0,vfm)+DyL/G['dx']]), np.array([-nx,0,nx]), N, N)\n",
        "    K_mat = (T1 + T2) /G['dx']*G['dt']\n",
        "    return  K_mat\n",
        "\n",
        "def FWD(G,bounds):  \n",
        "    K_mat = RHS_Matrix2(G,bounds)\n",
        "    K_mat = K_mat.tocsr()\n",
        "    mnV = abs(K_mat.min(axis=0).min())       \n",
        "    N = K_mat.shape[0]\n",
        "    speyeN = identity(N).tocsr()\n",
        "    M = speyeN +(1/(2*mnV))*K_mat\n",
        "    e = np.ones(N,)\n",
        "    A = (1-G[\"alpha\"])*M - speyeN\n",
        "    b = -(G[\"alpha\"]/N)*e\n",
        "    x = spsolve(A, b )\n",
        "    Peq = x.reshape((G['nx'],G['ny']), order='F')\n",
        "    Peq0 = Peq * 0\n",
        "    Peq0[1:-1, 1:-1] = Peq[1:-1, 1:-1]\n",
        "    Peq0 = Peq0/Peq0.sum()\n",
        "    Peq0 = Peq0.flatten(order = 'F')\n",
        "    # return the transpose of matrix (1-G[\"alpha\"])*M - speyeN for adjoint eqn.\n",
        "    return (1-G[\"alpha\"])*M.transpose() - speyeN, Peq0, x, K_mat\n",
        "\n",
        "_,Peq_epsilon,_,_ = FWD(G,bounds)\n",
        "Peq_epsilon = Peq_epsilon.reshape(nx,ny,order = 'F')\n",
        "plt.figure(dpi = 80)\n",
        "plt.title(r'$\\rho_{\\varepsilon}(v^*)$',fontsize = 20)\n",
        "plt.imshow(Peq_epsilon.T,origin = 'lower',extent = extent)"
      ],
      "metadata": {
        "colab": {
          "base_uri": "https://localhost:8080/",
          "height": 338
        },
        "id": "_YC74I_oCmhI",
        "outputId": "ad4c05bb-11b8-47ad-efa1-be2cfb8286af"
      },
      "execution_count": null,
      "outputs": [
        {
          "output_type": "execute_result",
          "data": {
            "text/plain": [
              "<matplotlib.image.AxesImage at 0x7fd5eb0d2490>"
            ]
          },
          "metadata": {},
          "execution_count": 4
        },
        {
          "output_type": "display_data",
          "data": {
            "text/plain": [
              "<Figure size 480x320 with 1 Axes>"
            ],
            "image/png": "[encoded data removed]"
          },
          "metadata": {
            "needs_background": "light"
          }
        }
      ]
    },
    {
      "cell_type": "markdown",
      "source": [
        "There is clearly significant numerical diffusion for the large spatial discretization we have chosen. For improved results, the mesh should be refined. Next, we will initialize a guess of 1e-4 for each polynomial coefficient and set up the adjoint-state method gradient calculation."
      ],
      "metadata": {
        "id": "3RS54T7TNQa4"
      }
    },
    {
      "cell_type": "code",
      "source": [
        "d = 2\n",
        "bnums = int(math.factorial(d+G['basis_deg'])/(math.factorial(G['basis_deg'])*math.factorial(d)))\n",
        "G['basis1'] = np.ones(bnums)*1e-4\n",
        "G['basis2'] = G['basis1'].copy()\n",
        "basis_guess = np.concatenate((G['basis1'].flatten(),G['basis2'].flatten())) #initial coefficients guess\n",
        "\n",
        "l = len(G['basis1'])\n",
        "degs = []\n",
        "xcount = 0\n",
        "ycount = 0\n",
        "for xs in range(G['basis_deg']+1):\n",
        "    for ys in range(G['basis_deg']+1):\n",
        "        if xs+ys <= G['basis_deg']:\n",
        "            degs.append([xs,ys])\n",
        "degs = np.asarray(degs) #helps index terms in the gradient calculation\n",
        "\n",
        "def calc_cost_only(G,bounds,Peq_true):\n",
        "    _,Peq, _,_ = FWD(G,bounds)\n",
        "    cost = np.linalg.norm(Peq - Peq_true)**2 *0.5\n",
        "    return cost\n",
        "\n",
        "def calc_cost_gradient(G,bounds,Peq_true):\n",
        "    #### 1. Solve the forward problem\n",
        "    A,Peq,_,K_mat = FWD(G,bounds)\n",
        "    #### 2. compute the loss function\n",
        "    cost = np.linalg.norm(Peq - Peq_true)**2 *0.5\n",
        "    u = Peq-Peq_true \n",
        "    #### 3. Solve the adjoint equation\n",
        "    sol = spsolve(A,-u + u.dot(Peq))\n",
        "    #### 4. compute the gradient\n",
        "    grad = np.zeros((l,2))\n",
        "    mnV = abs(K_mat.min(axis=0).min())\n",
        "    for i in range(1,nx-1):\n",
        "      for j in range(1,ny-1):\n",
        "        idx = i + nx*j\n",
        "        dv1, dv2 = 1,1\n",
        "        v1, v2 = G['Vx'][i,j], G['Vy'][i,j]\n",
        "        g1 = ((G['dt']*(1-G[\"alpha\"])*(1/(2*mnV))*(sol[idx]-sol[idx-1])*(diffmax(v1)*Peq[idx-1]+diffmin(v1)*Peq[idx])*dv1/G['dx'])) \n",
        "        g2 = ((G['dt']*(1-G[\"alpha\"])*(1/(2*mnV))*(sol[idx]-sol[idx-nx])*(diffmax(v2)*Peq[idx-nx]+diffmin(v2)*Peq[idx])*dv2/G['dx']))\n",
        "        grad[:,0] += g1*(Xf[i]**(degs[:,0]))*(Yi[j]**(degs[:,1]))\n",
        "        grad[:,1] += g2*(Xi[i]**(degs[:,0]))*(Yf[j]**(degs[:,1]))  \n",
        "    return cost,grad\n",
        "  \n",
        "def grad1(basis): #reformat gradient computation above to be compatible with scipy.minimize\n",
        "    G['basis1'] = basis[:l]\n",
        "    G['basis2'] = basis[l:]      \n",
        "    G['Vx'], G['Vy'] = build_velocities_basis(G)\n",
        "    g = np.zeros((l,2))\n",
        "    c,g = calc_cost_gradient(G,bounds,Peq_true)\n",
        "    return g.flatten(order = 'F')\n",
        "\n",
        "def cost1(basis): #reformat cost calculation above to be compatible with scipy.minimize\n",
        "    G['basis1'] = basis[:l]\n",
        "    G['basis2'] = basis[l:]\n",
        "    G['Vx'], G['Vy'] = build_velocities_basis(G)\n",
        "    c = calc_cost_only(G,bounds,Peq_true)\n",
        "    return c"
      ],
      "metadata": {
        "id": "aCKQ_vhcNdUG"
      },
      "execution_count": null,
      "outputs": []
    },
    {
      "cell_type": "markdown",
      "source": [
        "Finally, we run L-BFGS-B optimization for 50 iterations to recover the true velocity. "
      ],
      "metadata": {
        "id": "FW4z9A6sQDZ1"
      }
    },
    {
      "cell_type": "code",
      "source": [
        "def RHS_vec_basis(y,G):\n",
        "    n,_ = np.shape(y)\n",
        "    f1, f2 = np.zeros(n), np.zeros(n)    \n",
        "    b1 = G['basis1'].flatten()\n",
        "    b2 = G['basis2'].flatten()\n",
        "    for i in range(len(b1)):\n",
        "        f1 += b1[i]*y[:,0]**(degs[i][0])*y[:,1]**(degs[i][1])\n",
        "        f2 += b2[i]*y[:,0]**(degs[i][0])*y[:,1]**(degs[i][1])\n",
        "    f = np.concatenate((f1.reshape(n,1),f2.reshape(n,1)),axis=1)\n",
        "    return f\n",
        "    \n",
        "def build_velocities_basis(G):  #translates polynomial coefficients to the corresponding vector field\n",
        "  Vx = np.zeros((nx+1, ny+1))\n",
        "  Vy = np.zeros((nx+1, ny+1))   \n",
        "  y_big = np.zeros((nx-1,ny-1,2)) \n",
        "  y_big[:,:,0],y_big[:,:,1] = np.meshgrid(Xf[1:-1],Yf[1:-1],indexing='ij')\n",
        "  #y_big is n by 3 where n= (nx-1)*(ny-1)*(nz-1) is # of points we evaluate the RHS\n",
        "  y_big = y_big.reshape(((nx-1)*(ny-1),2)) \n",
        "  # evaluate the velocity at faces of the velocity cells\n",
        "  Vx[1:-1,1:-1] = np.reshape(RHS_vec_basis(y_big + np.ones(((nx-1)*(ny-1),1))@np.array([0,G['dx']/2]).reshape(1,2), G)[:,0], ((nx-1),(ny-1)))\n",
        "  Vy[1:-1,1:-1] = np.reshape(RHS_vec_basis(y_big + np.ones(((nx-1)*(ny-1),1))@np.array([G['dx']/2,0]).reshape(1,2), G)[:,1], ((nx-1),(ny-1)))\n",
        "  return Vx, Vy\n",
        "\n",
        "Iterations = 0\n",
        "def callback(basis):\n",
        "    global Iterations \n",
        "    G['basis1'] = basis[:l]\n",
        "    G['basis2'] = basis[l:]\n",
        "    G['Vx'], G['Vy'] = build_velocities_basis(G)\n",
        "    if Iterations%10==0 :\n",
        "        _,Peq,_,_ = FWD(G,bounds)\n",
        "        Peq = Peq.reshape(nx,ny,order = 'F')\n",
        "        output.clear()\n",
        "        plt.figure(dpi = 80)\n",
        "        plt.title('Forward model: Iteration = {}'.format(Iterations),fontsize = 20)\n",
        "        plt.imshow(Peq.T,origin = 'lower',extent = extent)\n",
        "        plt.show()\n",
        "    Iterations = Iterations+1\n",
        "    return \n",
        "\n",
        "  \n",
        "opt = minimize(cost1,\n",
        "         basis_guess, \n",
        "         method='L-BFGS-B', \n",
        "         jac=grad1, \n",
        "         bounds = None,\n",
        "         callback = callback,\n",
        "         options={'maxiter': 51})"
      ],
      "metadata": {
        "colab": {
          "base_uri": "https://localhost:8080/",
          "height": 315
        },
        "id": "TDtukLCLKfaE",
        "outputId": "0baa3130-7fad-46d3-f172-1495b1b4092b"
      },
      "execution_count": null,
      "outputs": [
        {
          "output_type": "display_data",
          "data": {
            "text/plain": [
              "<Figure size 480x320 with 1 Axes>"
            ],
            "image/png": "[encoded data removed]"
          },
          "metadata": {
            "needs_background": "light"
          }
        }
      ]
    },
    {
      "cell_type": "markdown",
      "source": [
        "Clearly there has been some overfitting, as the forward model with the learned velocity matches the ground truth invariant measure more closely than the forward model evaluated at the ground truth velocity. These errors are expected to decrease as the mesh is refined."
      ],
      "metadata": {
        "id": "kGUChENTUpjR"
      }
    },
    {
      "cell_type": "code",
      "source": [],
      "metadata": {
        "id": "Mks2EaaG9L1s"
      },
      "execution_count": null,
      "outputs": []
    }
  ]
}
